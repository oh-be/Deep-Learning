{
 "cells": [
  {
   "cell_type": "markdown",
   "metadata": {},
   "source": [
    "# Optimizing Neural Network"
   ]
  },
  {
   "cell_type": "markdown",
   "metadata": {},
   "source": [
    "## Preprocessing"
   ]
  },
  {
   "cell_type": "markdown",
   "metadata": {},
   "source": [
    "### Imports"
   ]
  },
  {
   "cell_type": "code",
   "execution_count": 8,
   "metadata": {},
   "outputs": [
    {
     "data": {
      "text/html": [
       "<div>\n",
       "<style scoped>\n",
       "    .dataframe tbody tr th:only-of-type {\n",
       "        vertical-align: middle;\n",
       "    }\n",
       "\n",
       "    .dataframe tbody tr th {\n",
       "        vertical-align: top;\n",
       "    }\n",
       "\n",
       "    .dataframe thead th {\n",
       "        text-align: right;\n",
       "    }\n",
       "</style>\n",
       "<table border=\"1\" class=\"dataframe\">\n",
       "  <thead>\n",
       "    <tr style=\"text-align: right;\">\n",
       "      <th></th>\n",
       "      <th>EIN</th>\n",
       "      <th>NAME</th>\n",
       "      <th>APPLICATION_TYPE</th>\n",
       "      <th>AFFILIATION</th>\n",
       "      <th>CLASSIFICATION</th>\n",
       "      <th>USE_CASE</th>\n",
       "      <th>ORGANIZATION</th>\n",
       "      <th>STATUS</th>\n",
       "      <th>INCOME_AMT</th>\n",
       "      <th>SPECIAL_CONSIDERATIONS</th>\n",
       "      <th>ASK_AMT</th>\n",
       "      <th>IS_SUCCESSFUL</th>\n",
       "    </tr>\n",
       "  </thead>\n",
       "  <tbody>\n",
       "    <tr>\n",
       "      <th>0</th>\n",
       "      <td>10520599</td>\n",
       "      <td>BLUE KNIGHTS MOTORCYCLE CLUB</td>\n",
       "      <td>T10</td>\n",
       "      <td>Independent</td>\n",
       "      <td>C1000</td>\n",
       "      <td>ProductDev</td>\n",
       "      <td>Association</td>\n",
       "      <td>1</td>\n",
       "      <td>0</td>\n",
       "      <td>N</td>\n",
       "      <td>5000</td>\n",
       "      <td>1</td>\n",
       "    </tr>\n",
       "    <tr>\n",
       "      <th>1</th>\n",
       "      <td>10531628</td>\n",
       "      <td>AMERICAN CHESAPEAKE CLUB CHARITABLE TR</td>\n",
       "      <td>T3</td>\n",
       "      <td>Independent</td>\n",
       "      <td>C2000</td>\n",
       "      <td>Preservation</td>\n",
       "      <td>Co-operative</td>\n",
       "      <td>1</td>\n",
       "      <td>1-9999</td>\n",
       "      <td>N</td>\n",
       "      <td>108590</td>\n",
       "      <td>1</td>\n",
       "    </tr>\n",
       "    <tr>\n",
       "      <th>2</th>\n",
       "      <td>10547893</td>\n",
       "      <td>ST CLOUD PROFESSIONAL FIREFIGHTERS</td>\n",
       "      <td>T5</td>\n",
       "      <td>CompanySponsored</td>\n",
       "      <td>C3000</td>\n",
       "      <td>ProductDev</td>\n",
       "      <td>Association</td>\n",
       "      <td>1</td>\n",
       "      <td>0</td>\n",
       "      <td>N</td>\n",
       "      <td>5000</td>\n",
       "      <td>0</td>\n",
       "    </tr>\n",
       "    <tr>\n",
       "      <th>3</th>\n",
       "      <td>10553066</td>\n",
       "      <td>SOUTHSIDE ATHLETIC ASSOCIATION</td>\n",
       "      <td>T3</td>\n",
       "      <td>CompanySponsored</td>\n",
       "      <td>C2000</td>\n",
       "      <td>Preservation</td>\n",
       "      <td>Trust</td>\n",
       "      <td>1</td>\n",
       "      <td>10000-24999</td>\n",
       "      <td>N</td>\n",
       "      <td>6692</td>\n",
       "      <td>1</td>\n",
       "    </tr>\n",
       "    <tr>\n",
       "      <th>4</th>\n",
       "      <td>10556103</td>\n",
       "      <td>GENETIC RESEARCH INSTITUTE OF THE DESERT</td>\n",
       "      <td>T3</td>\n",
       "      <td>Independent</td>\n",
       "      <td>C1000</td>\n",
       "      <td>Heathcare</td>\n",
       "      <td>Trust</td>\n",
       "      <td>1</td>\n",
       "      <td>100000-499999</td>\n",
       "      <td>N</td>\n",
       "      <td>142590</td>\n",
       "      <td>1</td>\n",
       "    </tr>\n",
       "  </tbody>\n",
       "</table>\n",
       "</div>"
      ],
      "text/plain": [
       "        EIN                                      NAME APPLICATION_TYPE  \\\n",
       "0  10520599              BLUE KNIGHTS MOTORCYCLE CLUB              T10   \n",
       "1  10531628    AMERICAN CHESAPEAKE CLUB CHARITABLE TR               T3   \n",
       "2  10547893        ST CLOUD PROFESSIONAL FIREFIGHTERS               T5   \n",
       "3  10553066            SOUTHSIDE ATHLETIC ASSOCIATION               T3   \n",
       "4  10556103  GENETIC RESEARCH INSTITUTE OF THE DESERT               T3   \n",
       "\n",
       "        AFFILIATION CLASSIFICATION      USE_CASE  ORGANIZATION  STATUS  \\\n",
       "0       Independent          C1000    ProductDev   Association       1   \n",
       "1       Independent          C2000  Preservation  Co-operative       1   \n",
       "2  CompanySponsored          C3000    ProductDev   Association       1   \n",
       "3  CompanySponsored          C2000  Preservation         Trust       1   \n",
       "4       Independent          C1000     Heathcare         Trust       1   \n",
       "\n",
       "      INCOME_AMT SPECIAL_CONSIDERATIONS  ASK_AMT  IS_SUCCESSFUL  \n",
       "0              0                      N     5000              1  \n",
       "1         1-9999                      N   108590              1  \n",
       "2              0                      N     5000              0  \n",
       "3    10000-24999                      N     6692              1  \n",
       "4  100000-499999                      N   142590              1  "
      ]
     },
     "execution_count": 8,
     "metadata": {},
     "output_type": "execute_result"
    }
   ],
   "source": [
    "# Import our dependencies\n",
    "from sklearn.model_selection import train_test_split\n",
    "from sklearn.preprocessing import StandardScaler, OneHotEncoder\n",
    "import pandas as pd\n",
    "#Comment back in on Collab\n",
    "#import tensorflow as tf\n",
    "\n",
    "#  Import and read the charity_data.csv.\n",
    "application_df = pd.read_csv(\"Resources/charity_data.csv\")\n",
    "application_df.head()"
   ]
  },
  {
   "cell_type": "markdown",
   "metadata": {},
   "source": [
    "## Pipelines"
   ]
  },
  {
   "cell_type": "markdown",
   "metadata": {},
   "source": [
    "Original"
   ]
  },
  {
   "cell_type": "code",
   "execution_count": 25,
   "metadata": {
    "tags": []
   },
   "outputs": [],
   "source": [
    "def default_pipeline(application_df):\n",
    "    \n",
    "    # Drop the non-beneficial ID columns, 'EIN' and 'NAME'.\n",
    "    application_df = application_df.drop(labels=[\"EIN\", \"NAME\"], axis=1)\n",
    "\n",
    "    # Bucket APPLICATION_TYPE\n",
    "    application_counts = application_df[\"APPLICATION_TYPE\"].value_counts()\n",
    "\n",
    "    # Determine which values to replace if counts are less than 500\n",
    "    replace_application = list(application_counts[application_counts < 500].index)\n",
    "\n",
    "    # Replace in dataframe\n",
    "    for app in replace_application:\n",
    "        application_df[\"APPLICATION_TYPE\"] = application_df[\"APPLICATION_TYPE\"].replace(app, \"Other\")\n",
    "\n",
    "    # Bucket CLASSIFICATION\n",
    "    classification_counts = application_df[\"CLASSIFICATION\"].value_counts()\n",
    "\n",
    "    # Determine which values to replace if counts are less than 1800\n",
    "    replace_class = list(classification_counts[classification_counts < 1800].index)\n",
    "\n",
    "    # Replace in dataframe\n",
    "    for cls in replace_class:\n",
    "        application_df[\"CLASSIFICATION\"] = application_df[\"CLASSIFICATION\"].replace(cls, \"Other\")\n",
    "\n",
    "    # Generate our categorical variable lists\n",
    "    application_cat = list(application_df.dtypes[application_df.dtypes == \"object\"].index)\n",
    "\n",
    "    # Create a OneHotEncoder instance\n",
    "    enc = OneHotEncoder(sparse=False)\n",
    "\n",
    "    # Fit and transform the OneHotEncoder using the categorical variable list\n",
    "    encode_df = pd.DataFrame(enc.fit_transform(application_df[application_cat]))\n",
    "\n",
    "    # Add the encoded variable names to the dataframe\n",
    "    encode_df.columns = enc.get_feature_names(application_cat)\n",
    "\n",
    "    # Merge one-hot encoded features and drop the originals\n",
    "    application_df = application_df.merge(encode_df, left_index=True, right_index=True)\n",
    "    application_df = application_df.drop(labels=application_cat, axis=1)\n",
    "    return application_df    "
   ]
  },
  {
   "cell_type": "markdown",
   "metadata": {},
   "source": [
    "Reduced Bins"
   ]
  },
  {
   "cell_type": "code",
   "execution_count": 34,
   "metadata": {
    "tags": []
   },
   "outputs": [],
   "source": [
    "def reduced_pipeline(application_df):\n",
    "    \n",
    "    # Drop the non-beneficial ID columns, 'EIN' and 'NAME'.\n",
    "    application_df = application_df.drop(labels=[\"EIN\", \"NAME\"], axis=1)\n",
    "\n",
    "    # Bucket APPLICATION_TYPE\n",
    "    application_counts = application_df[\"APPLICATION_TYPE\"].value_counts()\n",
    "\n",
    "    # Determine which values to replace if counts are less than 500\n",
    "    replace_application = list(application_counts[application_counts < 500].index)\n",
    "\n",
    "    # Replace in dataframe\n",
    "    for app in replace_application:\n",
    "        application_df[\"APPLICATION_TYPE\"] = application_df[\"APPLICATION_TYPE\"].replace(app, \"Other\")\n",
    "\n",
    "    # Bucket CLASSIFICATION\n",
    "    classification_counts = application_df[\"CLASSIFICATION\"].value_counts()\n",
    "\n",
    "    # Determine which values to replace if counts are less than 1800\n",
    "    replace_class = list(classification_counts[classification_counts < 1800].index)\n",
    "\n",
    "    # Replace in dataframe\n",
    "    for cls in replace_class:\n",
    "        application_df[\"CLASSIFICATION\"] = application_df[\"CLASSIFICATION\"].replace(cls, \"Other\")\n",
    "        \n",
    "    income_counts = application_df[\"INCOME_AMT\"].value_counts()\n",
    "        \n",
    "    # Determine which values to replace if counts are less than 3000\n",
    "    replace_income = list(income_counts[income_counts < 3000].index)\n",
    "\n",
    "    # Replace in dataframe\n",
    "    for income in replace_income:\n",
    "        application_df[\"INCOME_AMT\"] = application_df[\"INCOME_AMT\"].replace(income, \"Other\")\n",
    "    \n",
    "    aff_counts = application_df[\"AFFILIATION\"].value_counts()\n",
    "    \n",
    "    # Determine which values to replace if counts are less than 15000\n",
    "    replace_aff = list(aff_counts[aff_counts < 15000].index)\n",
    "\n",
    "    # Replace in dataframe\n",
    "    for aff in replace_aff:\n",
    "        application_df[\"AFFILIATION\"] = application_df[\"AFFILIATION\"].replace(aff, \"Other\")\n",
    "\n",
    "    # Generate our categorical variable lists\n",
    "    application_cat = list(application_df.dtypes[application_df.dtypes == \"object\"].index)\n",
    "\n",
    "    # Create a OneHotEncoder instance\n",
    "    enc = OneHotEncoder(sparse=False)\n",
    "\n",
    "    # Fit and transform the OneHotEncoder using the categorical variable list\n",
    "    encode_df = pd.DataFrame(enc.fit_transform(application_df[application_cat]))\n",
    "\n",
    "    # Add the encoded variable names to the dataframe\n",
    "    encode_df.columns = enc.get_feature_names(application_cat)\n",
    "\n",
    "    # Merge one-hot encoded features and drop the originals\n",
    "    application_df = application_df.merge(encode_df, left_index=True, right_index=True)\n",
    "    application_df = application_df.drop(labels=application_cat, axis=1)\n",
    "    \n",
    "    # Drop \"SPECIAL_CONSIDERATION_N\":\n",
    "    application_df = application_df.drop(\"SPECIAL_CONSIDERATIONS_N\", axis=1)\n",
    "    return application_df    "
   ]
  },
  {
   "cell_type": "code",
   "execution_count": 35,
   "metadata": {},
   "outputs": [],
   "source": [
    "# instantiating df's for pipelines above\n",
    "df = default_pipeline(application_df)\n",
    "df2 = reduced_pipeline(application_df)"
   ]
  },
  {
   "cell_type": "markdown",
   "metadata": {},
   "source": [
    "### Reset dataset function (_for new testing_)"
   ]
  },
  {
   "cell_type": "code",
   "execution_count": 16,
   "metadata": {},
   "outputs": [],
   "source": [
    "def new_dataset(df):\n",
    "    # Split our preprocessed data into our features and target arrays\n",
    "    y = df[\"IS_SUCCESSFUL\"].values.reshape(-1, 1)\n",
    "    X = df.drop(\"IS_SUCCESSFUL\", axis=1).values\n",
    "\n",
    "    # Split the preprocessed data into a training and testing dataset\n",
    "    X_train, X_test, y_train, y_test = train_test_split(X, y)\n",
    "\n",
    "    # Create a StandardScaler instances\n",
    "    scaler = StandardScaler()\n",
    "\n",
    "    # Fit the StandardScaler\n",
    "    X_scaler = scaler.fit(X_train)\n",
    "\n",
    "    # Scale the data\n",
    "    X_train = X_scaler.transform(X_train)\n",
    "    X_test = X_scaler.transform(X_test)\n",
    "    return X_train, X_test, y_train, y_test"
   ]
  },
  {
   "cell_type": "code",
   "execution_count": 17,
   "metadata": {},
   "outputs": [],
   "source": [
    "X_train, X_test, y_train, y_test = new_dataset(df)"
   ]
  },
  {
   "cell_type": "markdown",
   "metadata": {},
   "source": [
    "## Compile, Train and Evaluate the Models"
   ]
  },
  {
   "cell_type": "markdown",
   "metadata": {},
   "source": [
    "### define models for quick boot"
   ]
  },
  {
   "cell_type": "code",
   "execution_count": 37,
   "metadata": {},
   "outputs": [],
   "source": [
    "def sig_model(X_train_scaled):\n",
    "    # Define the model - deep neural net, i.e., the number of input features and hidden nodes for each layer.\n",
    "    number_input_features = len(X_train_scaled[0])\n",
    "\n",
    "    # number of layer1 neurons = 2*(number of inputs=43) = 86 ~ 80\n",
    "    hidden_nodes_layer1 = 80\n",
    "\n",
    "    # number of layer2 neurons: Between (input=80) and (output=1 - classifier)\n",
    "    hidden_nodes_layer2 = 30\n",
    "\n",
    "    nn_inc_epochs = tf.keras.models.Sequential()\n",
    "\n",
    "    # First hidden layer\n",
    "    nn_inc_epochs.add(tf.keras.layers.Dense(units=hidden_nodes_layer1, input_dim=number_input_features, activation=\"relu\"))\n",
    "\n",
    "    # Second hidden layer\n",
    "    nn_inc_epochs.add(tf.keras.layers.Dense(units=hidden_nodes_layer2, activation=\"relu\"))\n",
    "\n",
    "    # Output layer\n",
    "    nn_inc_epochs.add(tf.keras.layers.Dense(units=1, activation=\"sigmoid\"))\n",
    "\n",
    "    # Check the structure of the model\n",
    "    return nn_inc_epochs.summary()"
   ]
  },
  {
   "cell_type": "code",
   "execution_count": 38,
   "metadata": {},
   "outputs": [],
   "source": [
    "def tanh_model(X_train_scaled):\n",
    "    # Define the model - deep neural net, i.e., the number of input features and hidden nodes for each layer.\n",
    "    number_input_features = len(X_train_scaled[0])\n",
    "\n",
    "    # number of layer1 neurons = 2*(number of inputs=43) = 86 ~ 80\n",
    "    hidden_nodes_layer1 = 80\n",
    "\n",
    "    # number of layer2 neurons: Between (input=80) and (output=1 - classifier)\n",
    "    hidden_nodes_layer2 = 30\n",
    "\n",
    "    nn_inc_epochs = tf.keras.models.Sequential()\n",
    "\n",
    "    # First hidden layer\n",
    "    nn_inc_epochs.add(tf.keras.layers.Dense(units=hidden_nodes_layer1, input_dim=number_input_features, activation=\"relu\"))\n",
    "\n",
    "    # Second hidden layer\n",
    "    nn_inc_epochs.add(tf.keras.layers.Dense(units=hidden_nodes_layer2, activation=\"tanh\"))\n",
    "\n",
    "    # Output layer\n",
    "    nn_inc_epochs.add(tf.keras.layers.Dense(units=1, activation=\"sigmoid\"))\n",
    "\n",
    "    # Check the structure of the model\n",
    "    return nn_inc_epochs.summary()"
   ]
  },
  {
   "cell_type": "markdown",
   "metadata": {},
   "source": [
    "# relu-sig model with variations"
   ]
  },
  {
   "cell_type": "code",
   "execution_count": 39,
   "metadata": {},
   "outputs": [],
   "source": [
    "X_train, X_test, y_train, y_test = new_dataset(df)\n",
    "sig = sig_model(X_train)"
   ]
  },
  {
   "cell_type": "code",
   "execution_count": null,
   "metadata": {},
   "outputs": [],
   "source": [
    "# Compile the model\n",
    "sig.compile(loss=\"binary_crossentropy\", optimizer=\"adam\", metrics=[\"accuracy\"])\n",
    "fit_model_sig = sig.fit(X_train, y_train, epochs=70)"
   ]
  },
  {
   "cell_type": "code",
   "execution_count": null,
   "metadata": {},
   "outputs": [],
   "source": [
    "# Evaluate the model using the test data\n",
    "model_loss, model_accuracy = sig.evaluate(X_test, y_test, verbose=2)\n",
    "print(f\"Loss: {model_loss}, Accuracy: {model_accuracy}\")"
   ]
  },
  {
   "cell_type": "code",
   "execution_count": null,
   "metadata": {},
   "outputs": [],
   "source": [
    "X_train, X_test, y_train, y_test = new_dataset(df)\n",
    "tanh = tanh_model(X_train)"
   ]
  },
  {
   "cell_type": "code",
   "execution_count": 34,
   "metadata": {
    "collapsed": true,
    "jupyter": {
     "outputs_hidden": true
    },
    "tags": []
   },
   "outputs": [
    {
     "name": "stdout",
     "output_type": "stream",
     "text": [
      "WARNING:tensorflow:From Z:\\Travis\\anaconda3\\lib\\site-packages\\tensorflow\\python\\ops\\nn_impl.py:180: add_dispatch_support.<locals>.wrapper (from tensorflow.python.ops.array_ops) is deprecated and will be removed in a future version.\n",
      "Instructions for updating:\n",
      "Use tf.where in 2.0, which has the same broadcast rule as np.where\n"
     ]
    }
   ],
   "source": [
    "# Compile the model\n",
    "tanh.compile(loss=\"binary_crossentropy\", optimizer=\"adam\", metrics=[\"accuracy\"])\n",
    "fit_model_tanh = tanh.fit(X_train, y_train, epochs=90)"
   ]
  },
  {
   "cell_type": "code",
   "execution_count": null,
   "metadata": {},
   "outputs": [],
   "source": [
    "# Evaluate the model using the test data\n",
    "model_loss, model_accuracy = tanh.evaluate(X_test, y_test, verbose=2)\n",
    "print(f\"Loss: {model_loss}, Accuracy: {model_accuracy}\")"
   ]
  },
  {
   "cell_type": "code",
   "execution_count": 38,
   "metadata": {},
   "outputs": [],
   "source": [
    "# Export and save model to HDF5 file\n",
    "tanh.save(\"AlphabetSoupCharity_Optimization.h5\")"
   ]
  }
 ],
 "metadata": {
  "kernelspec": {
   "display_name": "Python 3 (ipykernel)",
   "language": "python",
   "name": "python3"
  },
  "language_info": {
   "codemirror_mode": {
    "name": "ipython",
    "version": 3
   },
   "file_extension": ".py",
   "mimetype": "text/x-python",
   "name": "python",
   "nbconvert_exporter": "python",
   "pygments_lexer": "ipython3",
   "version": "3.8.12"
  }
 },
 "nbformat": 4,
 "nbformat_minor": 4
}
